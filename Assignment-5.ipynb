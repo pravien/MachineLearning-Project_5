{
 "cells": [
  {
   "cell_type": "markdown",
   "metadata": {},
   "source": [
    "# Part 1: Business case\n",
    "\n",
    "Is it possible to predict whether a review is positive or negative?\n",
    "\n",
    "We think that this topic is interesting, because it can help sites predict the tone of a review. This prediction might also be useful to predict the tone of an e-mail or any other written review. The sites can then use this to delete reviews or comments if they are negative/bad (now how ethical this is, is a different matter).\n",
    "We also want to make use of online Machine learning, to keep improving our classifier.\n",
    "\n",
    "We can use binary classification for this problem, because a review can be either be negative or positive. We also have to do some kind of preproccesing with the words so they can be used with binary classification.\n",
    "\n",
    "# Part 2: Chosen dataset/domain\n",
    "\n",
    "<https://www.kaggle.com/nicolasgervais/rotten-tomatoes-480000-labeled-critic-reviews>\n",
    "\n",
    "This dataset contains 480000 critic reviews from Rotten Tomatoes. The dataset consist of two columns — freshness and review.\n",
    "Freshness indicates if the review is negative or positive.\n"
   ]
  },
  {
   "cell_type": "markdown",
   "metadata": {},
   "source": [
    "# Part 3: Preprocessing steps and features"
   ]
  },
  {
   "cell_type": "code",
   "execution_count": 85,
   "metadata": {},
   "outputs": [],
   "source": [
    "import pandas as pd\n",
    "import numpy as np"
   ]
  },
  {
   "cell_type": "code",
   "execution_count": 86,
   "metadata": {},
   "outputs": [],
   "source": [
    "df = pd.read_csv(\"./rotten_tomatoes_reviews.csv\")"
   ]
  },
  {
   "cell_type": "code",
   "execution_count": 87,
   "metadata": {},
   "outputs": [
    {
     "data": {
      "text/plain": [
       "<bound method NDFrame.head of        Freshness                                             Review\n",
       "0         rotten            Lensed with skill to no particular end.\n",
       "1         rotten   Baggage Claim focuses too much on plot and to...\n",
       "2          fresh   As you watch \"Fences,\" there's never a doubt ...\n",
       "3          fresh   Johanna Hamilton's 1971 may not be as dynamic...\n",
       "4          fresh   The delayed and much-debated The Good Dinosau...\n",
       "5          fresh   Sheridan suggests that the object of this gam...\n",
       "6         rotten     As a horror film, Camera Obscura disappoints. \n",
       "7         rotten                Michael Bay is his own worst enemy.\n",
       "8          fresh   ...an opiate-induced, caffeinated, super-octa...\n",
       "9         rotten   It all falls apart in the final third, which ...\n",
       "10        rotten   Whatever it was that made the first film work...\n",
       "11        rotten   Far from bad, but academic and -- for once wi...\n",
       "12        rotten   As shiny and hollow as its used shell cases, ...\n",
       "13         fresh   The Florida Project is spattered with profoun...\n",
       "14        rotten   ... this is a gladiator movie encased within ...\n",
       "15        rotten   [It's] as if everything is too detached to be...\n",
       "16         fresh   Works most effectively in its subtler, more e...\n",
       "17        rotten   The overall outcome of \"The Snowman\" is defin...\n",
       "18         fresh   Director Rod Lurie plays it down the middle, ...\n",
       "19         fresh   A perfectly decent family romp boosted by the...\n",
       "20         fresh   Just because the characters are crazy, that d...\n",
       "21         fresh   Epic dramas can be two hours or more. For lig...\n",
       "22        rotten   Funny this may be, but for all the wrong reas...\n",
       "23        rotten   Distinguished mainly by its transparent box-o...\n",
       "24         fresh   Has scattered, enthralling, entertaining indi...\n",
       "25        rotten   Just because some of the characters struggle ...\n",
       "26         fresh   Spirited and very funny, this movie should ac...\n",
       "27        rotten   This bumbling exercise in redundant replicati...\n",
       "28        rotten   The film's evoking of its anti-war counterpar...\n",
       "29         fresh   Chega a ser difícil avaliar quem ri mais das ...\n",
       "...          ...                                                ...\n",
       "479970    rotten                            Parental Content Review\n",
       "479971    rotten   The more one thinks about it, the more one ca...\n",
       "479972     fresh   It's a little slow going in the start, but on...\n",
       "479973    rotten   One of the least convincing, most manipulativ...\n",
       "479974    rotten   Florence Foster Jenkins is determined to shap...\n",
       "479975    rotten   With its pale colour palette, the film looks ...\n",
       "479976     fresh   comes on like a carbon copy of 'Meet the Pare...\n",
       "479977     fresh   The story is perhaps better suited to a super...\n",
       "479978     fresh   This is the kind of bold film-making, bristli...\n",
       "479979    rotten   You would be well advised to give a wide bert...\n",
       "479980    rotten   Cahill and Marling demonstrate a knack for de...\n",
       "479981    rotten   \"Hitchcock\" is an amusing lark, but the clums...\n",
       "479982     fresh   Watching \"Experimenter\" is to realize how lit...\n",
       "479983    rotten   There's an improvisatory air, overlaid with q...\n",
       "479984     fresh   Obvious Child is well-made and wickedly bold,...\n",
       "479985    rotten   Cool cars, epic stunts, a \"video game movie\" ...\n",
       "479986    rotten   The film feels like a 100-minute prison rape ...\n",
       "479987     fresh   Shane Black takes a crack at the bloodthirsty...\n",
       "479988     fresh   Hardcore Henry would have you weeping for the...\n",
       "479989     fresh   A defiantly indie take on a traditionally sup...\n",
       "479990    rotten   [Vaughan's] latest picture, a genre mash-up t...\n",
       "479991     fresh   Simultaneously one of the most grandiose and ...\n",
       "479992     fresh   Cutting right to the chase, Faster seldom slo...\n",
       "479993     fresh   When it's focused on Good vs. Evil and the me...\n",
       "479994     fresh   Really great documentaries are like zeitgeist...\n",
       "479995     fresh   To those film lovers attuned to quiet moments...\n",
       "479996     fresh   ...rests entirely on Asano's performance, and...\n",
       "479997    rotten   Whoosh!! Days of Thunder just streaked in, fa...\n",
       "479998    rotten   As a former trainer, the reviewer feels the s...\n",
       "479999     fresh   Worth seeing for the last half hour, but too ...\n",
       "\n",
       "[480000 rows x 2 columns]>"
      ]
     },
     "execution_count": 87,
     "metadata": {},
     "output_type": "execute_result"
    }
   ],
   "source": [
    "df.head"
   ]
  },
  {
   "cell_type": "code",
   "execution_count": 88,
   "metadata": {},
   "outputs": [],
   "source": [
    "# we convert the labels to 0 and 1.\n",
    "from sklearn import preprocessing\n",
    "lb = preprocessing.LabelBinarizer()\n",
    "df['label'] = lb.fit_transform(df.Freshness)"
   ]
  },
  {
   "cell_type": "code",
   "execution_count": 89,
   "metadata": {},
   "outputs": [
    {
     "data": {
      "text/plain": [
       "<bound method NDFrame.head of        Freshness                                             Review  label\n",
       "0         rotten            Lensed with skill to no particular end.      1\n",
       "1         rotten   Baggage Claim focuses too much on plot and to...      1\n",
       "2          fresh   As you watch \"Fences,\" there's never a doubt ...      0\n",
       "3          fresh   Johanna Hamilton's 1971 may not be as dynamic...      0\n",
       "4          fresh   The delayed and much-debated The Good Dinosau...      0\n",
       "5          fresh   Sheridan suggests that the object of this gam...      0\n",
       "6         rotten     As a horror film, Camera Obscura disappoints.       1\n",
       "7         rotten                Michael Bay is his own worst enemy.      1\n",
       "8          fresh   ...an opiate-induced, caffeinated, super-octa...      0\n",
       "9         rotten   It all falls apart in the final third, which ...      1\n",
       "10        rotten   Whatever it was that made the first film work...      1\n",
       "11        rotten   Far from bad, but academic and -- for once wi...      1\n",
       "12        rotten   As shiny and hollow as its used shell cases, ...      1\n",
       "13         fresh   The Florida Project is spattered with profoun...      0\n",
       "14        rotten   ... this is a gladiator movie encased within ...      1\n",
       "15        rotten   [It's] as if everything is too detached to be...      1\n",
       "16         fresh   Works most effectively in its subtler, more e...      0\n",
       "17        rotten   The overall outcome of \"The Snowman\" is defin...      1\n",
       "18         fresh   Director Rod Lurie plays it down the middle, ...      0\n",
       "19         fresh   A perfectly decent family romp boosted by the...      0\n",
       "20         fresh   Just because the characters are crazy, that d...      0\n",
       "21         fresh   Epic dramas can be two hours or more. For lig...      0\n",
       "22        rotten   Funny this may be, but for all the wrong reas...      1\n",
       "23        rotten   Distinguished mainly by its transparent box-o...      1\n",
       "24         fresh   Has scattered, enthralling, entertaining indi...      0\n",
       "25        rotten   Just because some of the characters struggle ...      1\n",
       "26         fresh   Spirited and very funny, this movie should ac...      0\n",
       "27        rotten   This bumbling exercise in redundant replicati...      1\n",
       "28        rotten   The film's evoking of its anti-war counterpar...      1\n",
       "29         fresh   Chega a ser difícil avaliar quem ri mais das ...      0\n",
       "...          ...                                                ...    ...\n",
       "479970    rotten                            Parental Content Review      1\n",
       "479971    rotten   The more one thinks about it, the more one ca...      1\n",
       "479972     fresh   It's a little slow going in the start, but on...      0\n",
       "479973    rotten   One of the least convincing, most manipulativ...      1\n",
       "479974    rotten   Florence Foster Jenkins is determined to shap...      1\n",
       "479975    rotten   With its pale colour palette, the film looks ...      1\n",
       "479976     fresh   comes on like a carbon copy of 'Meet the Pare...      0\n",
       "479977     fresh   The story is perhaps better suited to a super...      0\n",
       "479978     fresh   This is the kind of bold film-making, bristli...      0\n",
       "479979    rotten   You would be well advised to give a wide bert...      1\n",
       "479980    rotten   Cahill and Marling demonstrate a knack for de...      1\n",
       "479981    rotten   \"Hitchcock\" is an amusing lark, but the clums...      1\n",
       "479982     fresh   Watching \"Experimenter\" is to realize how lit...      0\n",
       "479983    rotten   There's an improvisatory air, overlaid with q...      1\n",
       "479984     fresh   Obvious Child is well-made and wickedly bold,...      0\n",
       "479985    rotten   Cool cars, epic stunts, a \"video game movie\" ...      1\n",
       "479986    rotten   The film feels like a 100-minute prison rape ...      1\n",
       "479987     fresh   Shane Black takes a crack at the bloodthirsty...      0\n",
       "479988     fresh   Hardcore Henry would have you weeping for the...      0\n",
       "479989     fresh   A defiantly indie take on a traditionally sup...      0\n",
       "479990    rotten   [Vaughan's] latest picture, a genre mash-up t...      1\n",
       "479991     fresh   Simultaneously one of the most grandiose and ...      0\n",
       "479992     fresh   Cutting right to the chase, Faster seldom slo...      0\n",
       "479993     fresh   When it's focused on Good vs. Evil and the me...      0\n",
       "479994     fresh   Really great documentaries are like zeitgeist...      0\n",
       "479995     fresh   To those film lovers attuned to quiet moments...      0\n",
       "479996     fresh   ...rests entirely on Asano's performance, and...      0\n",
       "479997    rotten   Whoosh!! Days of Thunder just streaked in, fa...      1\n",
       "479998    rotten   As a former trainer, the reviewer feels the s...      1\n",
       "479999     fresh   Worth seeing for the last half hour, but too ...      0\n",
       "\n",
       "[480000 rows x 3 columns]>"
      ]
     },
     "execution_count": 89,
     "metadata": {},
     "output_type": "execute_result"
    }
   ],
   "source": [
    "df.head"
   ]
  },
  {
   "cell_type": "markdown",
   "metadata": {},
   "source": [
    "We will be using NLTK stem porter to preprocess the strings. This library can cut away excess letters. For example \"running\" will be converted too run."
   ]
  },
  {
   "cell_type": "code",
   "execution_count": 90,
   "metadata": {},
   "outputs": [],
   "source": [
    "from nltk.stem.porter import PorterStemmer\n",
    "porter = PorterStemmer()\n"
   ]
  },
  {
   "cell_type": "code",
   "execution_count": 91,
   "metadata": {},
   "outputs": [
    {
     "name": "stderr",
     "output_type": "stream",
     "text": [
      "[nltk_data] Downloading package stopwords to\n",
      "[nltk_data]     /Users/pravien/nltk_data...\n",
      "[nltk_data]   Package stopwords is already up-to-date!\n"
     ]
    }
   ],
   "source": [
    "import nltk\n",
    "from nltk.tokenize import word_tokenize\n",
    "nltk.download('stopwords')\n",
    "from nltk.corpus import stopwords\n",
    "stop_words = set(stopwords.words('english'))"
   ]
  },
  {
   "cell_type": "code",
   "execution_count": 92,
   "metadata": {},
   "outputs": [],
   "source": [
    "import re\n",
    "# we use the porter stem functions to stem all words. We exclude all words containing speciel characters.\n",
    "df['cleaned'] = df['Review'].apply(lambda x: \" \".join([porter.stem(i) \n",
    "                                                      for i in str(re.sub('[^\\w]+', ' ', x)).split() if i.lower() not in stop_words]).lower())"
   ]
  },
  {
   "cell_type": "code",
   "execution_count": 93,
   "metadata": {},
   "outputs": [
    {
     "data": {
      "text/plain": [
       "0                                 lens skill particular end\n",
       "1                baggag claim focus much plot littl charact\n",
       "2         watch fenc never doubt live matter good nobl t...\n",
       "3         johanna hamilton 1971 may dynam immedi documen...\n",
       "4         delay much debat good dinosaur perfectli good ...\n",
       "5         sheridan suggest object game stop drug trade p...\n",
       "6                     horror film camera obscura disappoint\n",
       "7                                   michael bay worst enemi\n",
       "8                      opiat induc caffein super octan trip\n",
       "9         fall apart final third feel particularli slopp...\n",
       "10                  whatev made first film work realli lack\n",
       "11                         far bad academ director overlong\n",
       "12        shini hollow use shell case max payn much offe...\n",
       "13        florida project spatter profound sad moment ex...\n",
       "14        gladiat movi encas within highli coincident lo...\n",
       "15        everyth detach interest truth film never recov...\n",
       "16        work effect subtler enigmat moment indulg fami...\n",
       "17        overal outcom snowman definit disappoint part ...\n",
       "18        director rod luri play middl though tough time...\n",
       "19        perfectli decent famili romp boost occasion fl...\n",
       "20                                 charact crazi mean smart\n",
       "21        epic drama two hour light comedi breviti bette...\n",
       "22                                   funni may wrong reason\n",
       "23        distinguish mainli transpar box offic calcul g...\n",
       "24                scatter enthral entertain individu moment\n",
       "25                    charact struggl basic logic mean film\n",
       "26        spirit funni movi actual rather disturb sinc t...\n",
       "27        bumbl exercis redund replic disagre lukewarm h...\n",
       "28        film evok anti war counterpart fall flat feel ...\n",
       "29        chega ser difícil avaliar quem ri mai da inúme...\n",
       "                                ...                        \n",
       "479970                                parent content review\n",
       "479971    one think one see cast kind talent read script...\n",
       "479972    littl slow go start engin rev everi swirl lick...\n",
       "479973    one least convinc manipul film ever made every...\n",
       "479974    florenc foster jenkin determin shape stori cro...\n",
       "479975    pale colour palett film look like whimsi witho...\n",
       "479976    come like carbon copi meet parent turn concept...\n",
       "479977    stori perhap better suit superior tv thriller ...\n",
       "479978    kind bold film make bristl risk idea shake cin...\n",
       "479979    would well advis give wide berth larg useless ...\n",
       "479980    cahil marl demonstr knack detail twist psychol...\n",
       "479981    hitchcock amus lark clumsi way dissect directo...\n",
       "479982    watch experiment realiz littl life biopic movi...\n",
       "479983    improvisatori air overlaid quirki charm never ...\n",
       "479984    obviou child well made wickedli bold still fou...\n",
       "479985           cool car epic stunt video game movi script\n",
       "479986            film feel like 100 minut prison rape joke\n",
       "479987    shane black take crack bloodthirsti intergalac...\n",
       "479988    hardcor henri would weep termin declin cultur ...\n",
       "479989    defiantli indi take tradit super size genr str...\n",
       "479990    vaughan latest pictur genr mash send sixti era...\n",
       "479991    simultan one grandios person film hit theater ...\n",
       "479992                   cut right chase faster seldom slow\n",
       "479993    focus good vs evil mechan plot film highli wat...\n",
       "479994    realli great documentari like zeitgeist napalm...\n",
       "479995    film lover attun quiet moment emot nuanc film ...\n",
       "479996                  rest entir asano perform disappoint\n",
       "479997    whoosh day thunder streak fast race car paint ...\n",
       "479998    former trainer review feel spider bod rockclim...\n",
       "479999    worth see last half hour much film dull wait r...\n",
       "Name: cleaned, Length: 480000, dtype: object"
      ]
     },
     "execution_count": 93,
     "metadata": {},
     "output_type": "execute_result"
    }
   ],
   "source": [
    "df.cleaned"
   ]
  },
  {
   "cell_type": "code",
   "execution_count": 94,
   "metadata": {},
   "outputs": [],
   "source": [
    "import nltk\n",
    "from nltk.tokenize import word_tokenize\n",
    "#nltk.download('punkt')"
   ]
  },
  {
   "cell_type": "code",
   "execution_count": 95,
   "metadata": {},
   "outputs": [],
   "source": [
    "reviews = df.cleaned.str.cat(sep=' ')"
   ]
  },
  {
   "cell_type": "code",
   "execution_count": 96,
   "metadata": {},
   "outputs": [],
   "source": [
    "#splits the string into words\n",
    "tokens = word_tokenize(reviews)"
   ]
  },
  {
   "cell_type": "code",
   "execution_count": 97,
   "metadata": {},
   "outputs": [],
   "source": [
    "#calculates the frequency of each word. \n",
    "frequency_dist = nltk.FreqDist(tokens)"
   ]
  },
  {
   "cell_type": "code",
   "execution_count": 98,
   "metadata": {},
   "outputs": [
    {
     "name": "stdout",
     "output_type": "stream",
     "text": [
      "Requirement already satisfied: wordcloud in /Users/pravien/anaconda3/lib/python3.6/site-packages (1.5.0)\n",
      "Requirement already satisfied: pillow in /Users/pravien/anaconda3/lib/python3.6/site-packages (from wordcloud) (5.2.0)\n",
      "Requirement already satisfied: numpy>=1.6.1 in /Users/pravien/anaconda3/lib/python3.6/site-packages (from wordcloud) (1.15.4)\n",
      "\u001b[33mYou are using pip version 19.0.2, however version 19.1.1 is available.\n",
      "You should consider upgrading via the 'pip install --upgrade pip' command.\u001b[0m\n"
     ]
    }
   ],
   "source": [
    "!pip install wordcloud"
   ]
  },
  {
   "cell_type": "markdown",
   "metadata": {},
   "source": [
    "The plot below show the words which appear in the review. The size of the words display how frequently it occurs."
   ]
  },
  {
   "cell_type": "code",
   "execution_count": 99,
   "metadata": {},
   "outputs": [
    {
     "data": {
      "image/png": "[encoded data removed]",
      "text/plain": [
       "<Figure size 432x288 with 1 Axes>"
      ]
     },
     "metadata": {},
     "output_type": "display_data"
    }
   ],
   "source": [
    "from wordcloud import WordCloud\n",
    "import matplotlib.pyplot as plt\n",
    "wordcloud = WordCloud()\n",
    "wordcloud.generate_from_frequencies(frequency_dist)\n",
    "plt.imshow(wordcloud)\n",
    "plt.axis(\"off\")\n",
    "plt.show()"
   ]
  },
  {
   "cell_type": "code",
   "execution_count": 211,
   "metadata": {},
   "outputs": [
    {
     "name": "stdout",
     "output_type": "stream",
     "text": [
      "(384000,) (384000,) <class 'pandas.core.series.Series'>\n"
     ]
    }
   ],
   "source": [
    "from sklearn.model_selection import train_test_split\n",
    "\n",
    "X = df.cleaned\n",
    "y = df.label\n",
    "x_not_clean = df.Review\n",
    "\n",
    "X_train, X_test, y_train, y_test = train_test_split(\n",
    "    X, y, test_size=0.2, random_state=42)\n",
    "print(X_train.shape,y_train.shape,type(X_train))"
   ]
  },
  {
   "cell_type": "markdown",
   "metadata": {},
   "source": [
    "I have made 2 pipelines to see how important the preporcessing part is."
   ]
  },
  {
   "cell_type": "code",
   "execution_count": 102,
   "metadata": {},
   "outputs": [
    {
     "name": "stderr",
     "output_type": "stream",
     "text": [
      "/Users/pravien/anaconda3/lib/python3.6/site-packages/sklearn/linear_model/stochastic_gradient.py:183: FutureWarning: max_iter and tol parameters have been added in SGDClassifier in 0.19. If max_iter is set but tol is left unset, the default value for tol in 0.19 and 0.20 will be None (which is equivalent to -infinity, so it has no effect) but will change in 0.21 to 1e-3. Specify tol to silence this warning.\n",
      "  FutureWarning)\n",
      "/Users/pravien/anaconda3/lib/python3.6/site-packages/sklearn/linear_model/stochastic_gradient.py:183: FutureWarning: max_iter and tol parameters have been added in SGDClassifier in 0.19. If max_iter is set but tol is left unset, the default value for tol in 0.19 and 0.20 will be None (which is equivalent to -infinity, so it has no effect) but will change in 0.21 to 1e-3. Specify tol to silence this warning.\n",
      "  FutureWarning)\n",
      "/Users/pravien/anaconda3/lib/python3.6/site-packages/sklearn/linear_model/stochastic_gradient.py:183: FutureWarning: max_iter and tol parameters have been added in SGDClassifier in 0.19. If max_iter is set but tol is left unset, the default value for tol in 0.19 and 0.20 will be None (which is equivalent to -infinity, so it has no effect) but will change in 0.21 to 1e-3. Specify tol to silence this warning.\n",
      "  FutureWarning)\n",
      "/Users/pravien/anaconda3/lib/python3.6/site-packages/sklearn/linear_model/stochastic_gradient.py:183: FutureWarning: max_iter and tol parameters have been added in SGDClassifier in 0.19. If max_iter is set but tol is left unset, the default value for tol in 0.19 and 0.20 will be None (which is equivalent to -infinity, so it has no effect) but will change in 0.21 to 1e-3. Specify tol to silence this warning.\n",
      "  FutureWarning)\n"
     ]
    },
    {
     "data": {
      "text/plain": [
       "0.7516958333333336"
      ]
     },
     "execution_count": 102,
     "metadata": {},
     "output_type": "execute_result"
    }
   ],
   "source": [
    "from sklearn.pipeline import Pipeline, make_pipeline\n",
    "from sklearn.feature_extraction.text import TfidfVectorizer\n",
    "from sklearn.linear_model import SGDClassifier\n",
    "from sklearn.model_selection import cross_val_score\n",
    "\n",
    "pipeline1 = make_pipeline(TfidfVectorizer(ngram_range=(1,2), \n",
    "                                          stop_words='english', \n",
    "                                          sublinear_tf=True),\n",
    "                          SGDClassifier(loss = 'log',max_iter=10))\n",
    "\n",
    "pipeline2 = make_pipeline(TfidfVectorizer(ngram_range=(1,3), \n",
    "                                          stop_words='english', \n",
    "                                          sublinear_tf=True),\n",
    "                          SGDClassifier(loss = 'log',max_iter=10))\n",
    "\n",
    "scores1 = cross_val_score(pipeline1,X, y, cv=10)\n",
    "scores2 = cross_val_score(pipeline2,X, y, cv=10)\n",
    "scores3 = cross_val_score(pipeline1,x_not_clean, y, cv=10)\n",
    "scores4 = cross_val_score(pipeline2,x_not_clean, y, cv=10)\n",
    "sum(scores/len(scores))"
   ]
  },
  {
   "cell_type": "code",
   "execution_count": 104,
   "metadata": {},
   "outputs": [
    {
     "name": "stdout",
     "output_type": "stream",
     "text": [
      "0.75173125\n",
      "0.7487395833333331\n",
      "0.7548729166666668\n",
      "0.7514437500000001\n"
     ]
    }
   ],
   "source": [
    "print(sum(scores1/len(scores1)))\n",
    "print(sum(scores2/len(scores2)))\n",
    "print(sum(scores3/len(scores3)))\n",
    "print(sum(scores4/len(scores4)))"
   ]
  },
  {
   "cell_type": "markdown",
   "metadata": {},
   "source": [
    "The data above shows that NLTK libary doesnt make a big difference. But this might be because of the SGDClassifier. The reason why i choose the SGDClassifier is because it has a partial fit, that we need to train keep training the classfier. The accuracy score is 0.75, which is high acutelly pretty good."
   ]
  },
  {
   "cell_type": "code",
   "execution_count": 212,
   "metadata": {},
   "outputs": [],
   "source": [
    "from sklearn.feature_extraction.text import TfidfVectorizer\n",
    "\n",
    "vectorizer = TfidfVectorizer(ngram_range=(1,2), stop_words='english', sublinear_tf=True)\n",
    "x_train = vectorizer.fit_transform(X_train,y_train)"
   ]
  },
  {
   "cell_type": "code",
   "execution_count": 213,
   "metadata": {},
   "outputs": [],
   "source": [
    "from sklearn.linear_model import SGDClassifier\n",
    "clf = SGDClassifier(loss = 'log')"
   ]
  },
  {
   "cell_type": "code",
   "execution_count": 214,
   "metadata": {},
   "outputs": [
    {
     "data": {
      "text/plain": [
       "SGDClassifier(alpha=0.0001, average=False, class_weight=None,\n",
       "       early_stopping=False, epsilon=0.1, eta0=0.0, fit_intercept=True,\n",
       "       l1_ratio=0.15, learning_rate='optimal', loss='log', max_iter=None,\n",
       "       n_iter=None, n_iter_no_change=5, n_jobs=None, penalty='l2',\n",
       "       power_t=0.5, random_state=None, shuffle=True, tol=None,\n",
       "       validation_fraction=0.1, verbose=0, warm_start=False)"
      ]
     },
     "execution_count": 214,
     "metadata": {},
     "output_type": "execute_result"
    }
   ],
   "source": [
    "clf.partial_fit(x_train,y_train, classes=np.unique(df.label))"
   ]
  },
  {
   "cell_type": "code",
   "execution_count": 118,
   "metadata": {},
   "outputs": [],
   "source": [
    "X_test = vectorizer.transform(X_test)"
   ]
  },
  {
   "cell_type": "code",
   "execution_count": 121,
   "metadata": {},
   "outputs": [
    {
     "name": "stdout",
     "output_type": "stream",
     "text": [
      "AUC: 0.827\n"
     ]
    },
    {
     "data": {
      "image/png": "[encoded data removed]",
      "text/plain": [
       "<Figure size 432x288 with 1 Axes>"
      ]
     },
     "metadata": {},
     "output_type": "display_data"
    }
   ],
   "source": [
    "\n",
    "from sklearn.metrics import roc_curve\n",
    "from sklearn.metrics import roc_auc_score\n",
    "import matplotlib.pyplot as plt\n",
    "\n",
    "\n",
    "probs = clf.predict_proba(X_test)\n",
    "# keep probabilities for the positive outcome only\n",
    "probs = probs[:, 1]\n",
    "# calculate AUC\n",
    "auc = roc_auc_score(y_test, probs)\n",
    "print('AUC: %.3f' % auc)\n",
    "# calculate roc curve\n",
    "fpr, tpr, thresholds = roc_curve(y_test, probs)\n",
    "# plot no skill\n",
    "plt.plot([0, 1], [0, 1], linestyle='--')\n",
    "# plot the roc curve for the model\n",
    "plt.plot(fpr, tpr, marker='.')\n",
    "# show the plot\n",
    "plt.show()"
   ]
  },
  {
   "cell_type": "markdown",
   "metadata": {},
   "source": [
    "The Roc-curve shows us that over classifier is struggling a bit. \n",
    "This is seen by the small area under the orange curve. \n",
    "The dataset being balanced is a prerequisite to use the ROC-curve, \n",
    "but it does not guarantee that the score will be high. But the score is still very acceptable.\n",
    "\n",
    "Ovarall the classifier does solve the business case, which was to predict the tone of a review(positv / negativ)."
   ]
  },
  {
   "cell_type": "code",
   "execution_count": null,
   "metadata": {},
   "outputs": [],
   "source": []
  },
  {
   "cell_type": "markdown",
   "metadata": {},
   "source": [
    "# Trustpilot scraper"
   ]
  },
  {
   "cell_type": "markdown",
   "metadata": {},
   "source": [
    "This part tries to implement the online learning part. We have decided to scrape reviews from trustpilot. This part is not finished due to some issues with the group."
   ]
  },
  {
   "cell_type": "code",
   "execution_count": 122,
   "metadata": {},
   "outputs": [],
   "source": [
    "from requests import get\n",
    "import csv"
   ]
  },
  {
   "cell_type": "code",
   "execution_count": 123,
   "metadata": {},
   "outputs": [],
   "source": [
    "url = 'https://www.trustpilot.com/review/www.amazon.com?page={}'\n",
    "def get_url_response(url,pages=10):\n",
    "    for index,_ in enumerate(range(0,pages)):\n",
    "        yield get(url)"
   ]
  },
  {
   "cell_type": "code",
   "execution_count": null,
   "metadata": {},
   "outputs": [],
   "source": [
    "def write_file(filename, delimiter = '~'):\n",
    "   with open('employee_file.csv', mode='w') as employee_file:\n",
    "    employee_writer = csv.writer(employee_file, delimiter=',', quotechar='\"', quoting=csv.QUOTE_MINIMAL)\n",
    "    "
   ]
  },
  {
   "cell_type": "code",
   "execution_count": 182,
   "metadata": {},
   "outputs": [],
   "source": [
    "def mood_of_rating(rating):\n",
    "    if rating <= 3:\n",
    "        return 1\n",
    "    else: \n",
    "        return 0"
   ]
  },
  {
   "cell_type": "code",
   "execution_count": 190,
   "metadata": {},
   "outputs": [],
   "source": [
    "from bs4 import BeautifulSoup\n",
    "def retrive_element(response):\n",
    "    html_soup = BeautifulSoup(response.text, 'html.parser')\n",
    "    review = html_soup.find_all('p',{'class':'review-content__text'})\n",
    "    rating = html_soup.find_all('div',{'class':'star-rating--medium'})\n",
    "    for i,rating in zip(review,rating):\n",
    "        text = str(i.text)\n",
    "        classes = str (rating.attrs['class'])\n",
    "        rating = re.findall(r'\\d',classes)[0]\n",
    "        yield (text.replace(\"/n\",\"\").strip(),rating,mood_of_rating(int(rating)),)\n",
    "    "
   ]
  },
  {
   "cell_type": "code",
   "execution_count": 219,
   "metadata": {},
   "outputs": [
    {
     "name": "stdout",
     "output_type": "stream",
     "text": [
      "[\"I bought two pairs of swimming trunks on same day delivery only to be told at 730pm sorry we made a mistake and you can't have them tonight. Fine then on the day after I received an Email saying they had been posted so I rushed to the door to find nothing not a sausage let alone a couple of pairs of speedos. Amazon were completely unhelpful and only issued a refund after I threatened legal action. So prime is now cancelled and I guess I'll support my local high street from now on.\"]\n"
     ]
    }
   ],
   "source": [
    "url = 'https://www.trustpilot.com/review/www.amazon.com?page={}'\n",
    "import numpy as np\n",
    "temp_list = []\n",
    "for index,_ in enumerate(range(0,10)):\n",
    "       temp_list.append(retrive_element(get(url)))\n",
    "for i in temp_list:\n",
    "    for j in i:\n",
    "        review, rating, mood = j\n",
    "        print([review])\n",
    "        X_train = vectorizer.transform([review])\n",
    "        y_train = np.asarray([mood])\n",
    "        #print(X_train.shape,y_train.reshape(1,))\n",
    "        #clf.partial_fit(x_train, y_train)\n",
    "        break\n",
    "    break    "
   ]
  },
  {
   "cell_type": "code",
   "execution_count": null,
   "metadata": {},
   "outputs": [],
   "source": [
    "\n"
   ]
  },
  {
   "cell_type": "code",
   "execution_count": null,
   "metadata": {},
   "outputs": [],
   "source": []
  },
  {
   "cell_type": "code",
   "execution_count": null,
   "metadata": {},
   "outputs": [],
   "source": []
  },
  {
   "cell_type": "code",
   "execution_count": null,
   "metadata": {},
   "outputs": [],
   "source": []
  }
 ],
 "metadata": {
  "kernelspec": {
   "display_name": "Python 3",
   "language": "python",
   "name": "python3"
  },
  "language_info": {
   "codemirror_mode": {
    "name": "ipython",
    "version": 3
   },
   "file_extension": ".py",
   "mimetype": "text/x-python",
   "name": "python",
   "nbconvert_exporter": "python",
   "pygments_lexer": "ipython3",
   "version": "3.6.3"
  }
 },
 "nbformat": 4,
 "nbformat_minor": 2
}
